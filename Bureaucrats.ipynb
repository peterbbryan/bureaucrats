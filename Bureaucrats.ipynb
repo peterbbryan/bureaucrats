{
 "cells": [
  {
   "cell_type": "code",
   "execution_count": 1,
   "metadata": {},
   "outputs": [],
   "source": [
    "import numpy as np\n",
    "import matplotlib\n",
    "import matplotlib.pyplot as plt\n",
    "import seaborn as sns\n",
    "import time\n",
    "\n",
    "from random import randint"
   ]
  },
  {
   "cell_type": "markdown",
   "metadata": {},
   "source": [
    "# Simulation of critical systems"
   ]
  },
  {
   "cell_type": "markdown",
   "metadata": {},
   "source": []
  },
  {
   "cell_type": "markdown",
   "metadata": {},
   "source": [
    "## Variable declaration"
   ]
  },
  {
   "cell_type": "code",
   "execution_count": 2,
   "metadata": {},
   "outputs": [],
   "source": [
    "SPAN_OF_GRID = 20\n",
    "MAX_ITEMS_PER_CELL = 4\n",
    "\n",
    "NUM_ITERATIONS = 1000\n",
    "SECONDS_PER_ITERATION = 0.1\n",
    "INCREMENTATION_VALUE = 1\n",
    "\n",
    "TRANSFORMS = [(1,0),\n",
    "              (-1,0),\n",
    "              (0,1),\n",
    "              (0,-1)]\n"
   ]
  },
  {
   "cell_type": "markdown",
   "metadata": {},
   "source": [
    "## Allocation of the space"
   ]
  },
  {
   "cell_type": "code",
   "execution_count": 3,
   "metadata": {},
   "outputs": [],
   "source": [
    "GRID_OF_VALUES = np.zeros((SPAN_OF_GRID, SPAN_OF_GRID))\n",
    "FIGSIZE = (20, 5)"
   ]
  },
  {
   "cell_type": "markdown",
   "metadata": {},
   "source": [
    "## Random incrementation"
   ]
  },
  {
   "cell_type": "code",
   "execution_count": 4,
   "metadata": {},
   "outputs": [],
   "source": [
    "def increment_a_value_in_grid(grid_of_values: np.ndarray = GRID_OF_VALUES, \n",
    "                              incremetation_value: int = INCREMENTATION_VALUE):\n",
    "    \n",
    "    # pick a random spot on the grid\n",
    "    width = grid_of_values.shape[0]\n",
    "    height = grid_of_values.shape[1]\n",
    "    \n",
    "    # increment by incrementation value\n",
    "    x_val = randint(0, width-1)\n",
    "    y_val = randint(0, height-1)\n",
    "    grid_of_values[x_val, y_val] += 1\n",
    "    \n",
    "    return grid_of_values"
   ]
  },
  {
   "cell_type": "markdown",
   "metadata": {},
   "source": [
    "## Display simulation"
   ]
  },
  {
   "cell_type": "code",
   "execution_count": 5,
   "metadata": {},
   "outputs": [
    {
     "ename": "SyntaxError",
     "evalue": "non-default argument follows default argument (<ipython-input-5-446f55a8d398>, line 3)",
     "output_type": "error",
     "traceback": [
      "\u001b[0;36m  File \u001b[0;32m\"<ipython-input-5-446f55a8d398>\"\u001b[0;36m, line \u001b[0;32m3\u001b[0m\n\u001b[0;31m    def display_outcome(grid_of_values: np.ndarray = GRID_OF_VALUES, iteration: int):\u001b[0m\n\u001b[0m                       ^\u001b[0m\n\u001b[0;31mSyntaxError\u001b[0m\u001b[0;31m:\u001b[0m non-default argument follows default argument\n"
     ]
    }
   ],
   "source": [
    "%matplotlib notebook\n",
    "\n",
    "def display_outcome(iteration: int, grid_of_values: np.ndarray = GRID_OF_VALUES):\n",
    "    \n",
    "    plt.contourf(grid_of_values, 100, vmin=0, vmax=MAX_ITEMS_PER_CELL)\n",
    "    plt.axis('scaled')\n",
    "    plt.axis('off')\n",
    "    \n",
    "    plt.title('Iteration {}'.format(iteration))\n",
    "\n",
    "    matplotlib.rcParams.update({'font.size': 30})\n",
    "\n",
    "    fig.canvas.draw()\n",
    "\n",
    "    plt.show()\n",
    "    \n",
    "    time.sleep(SECONDS_PER_ITERATION)\n",
    "    plt.gcf().clear()"
   ]
  },
  {
   "cell_type": "markdown",
   "metadata": {},
   "source": [
    "## Play through simulation"
   ]
  },
  {
   "cell_type": "code",
   "execution_count": null,
   "metadata": {},
   "outputs": [],
   "source": [
    "def play_through_simulation(iteration: int,\n",
    "                            grid_of_values: np.ndarray = GRID_OF_VALUES, \n",
    "                            max_items_per_cell: int = MAX_ITEMS_PER_CELL):\n",
    "    \n",
    "    points_where_above = np.argwhere(grid_of_values >= max_items_per_cell)\n",
    "    \n",
    "    for (x, y) in points_where_above:\n",
    "        grid_of_values[x, y] = 0\n",
    "        for (dx, dy) in TRANSFORMS:\n",
    "            try:\n",
    "                grid_of_values[x + dx, y + dy] = grid_of_values[x + dx, y + dy] + 1\n",
    "            except:\n",
    "                continue\n",
    "\n",
    "    display_outcome(iteration=iteration)"
   ]
  },
  {
   "cell_type": "markdown",
   "metadata": {},
   "source": [
    "## Simulation and visualization"
   ]
  },
  {
   "cell_type": "code",
   "execution_count": null,
   "metadata": {},
   "outputs": [],
   "source": [
    "#fig, ax = plt.subplots(figsize=(18,10))\n",
    "\n",
    "for iteration in range(0, NUM_ITERATIONS):\n",
    "    increment_a_value_in_grid()\n",
    "    \n",
    "    play_through_simulation(iteration=iteration)\n",
    "        \n",
    "    while (GRID_OF_VALUES >= MAX_ITEMS_PER_CELL).any():\n",
    "            play_through_simulation(iteration=iteration)\n",
    "        "
   ]
  },
  {
   "cell_type": "markdown",
   "metadata": {},
   "source": [
    "##### "
   ]
  },
  {
   "cell_type": "code",
   "execution_count": null,
   "metadata": {},
   "outputs": [],
   "source": []
  },
  {
   "cell_type": "code",
   "execution_count": null,
   "metadata": {},
   "outputs": [],
   "source": []
  },
  {
   "cell_type": "code",
   "execution_count": null,
   "metadata": {},
   "outputs": [],
   "source": []
  }
 ],
 "metadata": {
  "kernelspec": {
   "display_name": "Python 3",
   "language": "python",
   "name": "python3"
  },
  "language_info": {
   "codemirror_mode": {
    "name": "ipython",
    "version": 3
   },
   "file_extension": ".py",
   "mimetype": "text/x-python",
   "name": "python",
   "nbconvert_exporter": "python",
   "pygments_lexer": "ipython3",
   "version": "3.6.4"
  }
 },
 "nbformat": 4,
 "nbformat_minor": 2
}
